{
  "nbformat": 4,
  "nbformat_minor": 0,
  "metadata": {
    "colab": {
      "provenance": []
    },
    "kernelspec": {
      "name": "python3",
      "display_name": "Python 3"
    },
    "language_info": {
      "name": "python"
    },
    "accelerator": "GPU",
    "gpuClass": "standard"
  },
  "cells": [
    {
      "cell_type": "code",
      "execution_count": 1,
      "metadata": {
        "id": "htF2IHG3IEOg"
      },
      "outputs": [],
      "source": [
        "# Tarea: Recrear esta misma metodología para un problema aún no visto"
      ]
    },
    {
      "cell_type": "code",
      "source": [
        "try:\n",
        "  %tensorflow_version 2.x # colab only\n",
        "except Exception:\n",
        "  pass\n",
        "\n",
        "import tensorflow as tf\n",
        "print(tf.__version__)"
      ],
      "metadata": {
        "colab": {
          "base_uri": "https://localhost:8080/"
        },
        "id": "d02jh9IEIVzf",
        "outputId": "bcbcffaa-17eb-4a7f-cd44-6d72dbc63871"
      },
      "execution_count": 2,
      "outputs": [
        {
          "output_type": "stream",
          "name": "stdout",
          "text": [
            "Colab only includes TensorFlow 2.x; %tensorflow_version has no effect.\n",
            "2.11.0\n"
          ]
        }
      ]
    },
    {
      "cell_type": "markdown",
      "source": [
        "## Data pre processing"
      ],
      "metadata": {
        "id": "af93q4pmIyIE"
      }
    },
    {
      "cell_type": "code",
      "source": [
        "# load int the data\n",
        "from sklearn.datasets import load_breast_cancer"
      ],
      "metadata": {
        "id": "hcNC-FmpIfd-"
      },
      "execution_count": 3,
      "outputs": []
    },
    {
      "cell_type": "code",
      "source": [
        "data = load_breast_cancer()\n",
        "data"
      ],
      "metadata": {
        "colab": {
          "base_uri": "https://localhost:8080/"
        },
        "id": "mLfSe0ytIj9x",
        "outputId": "a79068e3-1a76-4cff-d79e-499322cb9c9f"
      },
      "execution_count": 4,
      "outputs": [
        {
          "output_type": "execute_result",
          "data": {
            "text/plain": [
              "{'data': array([[1.799e+01, 1.038e+01, 1.228e+02, ..., 2.654e-01, 4.601e-01,\n",
              "         1.189e-01],\n",
              "        [2.057e+01, 1.777e+01, 1.329e+02, ..., 1.860e-01, 2.750e-01,\n",
              "         8.902e-02],\n",
              "        [1.969e+01, 2.125e+01, 1.300e+02, ..., 2.430e-01, 3.613e-01,\n",
              "         8.758e-02],\n",
              "        ...,\n",
              "        [1.660e+01, 2.808e+01, 1.083e+02, ..., 1.418e-01, 2.218e-01,\n",
              "         7.820e-02],\n",
              "        [2.060e+01, 2.933e+01, 1.401e+02, ..., 2.650e-01, 4.087e-01,\n",
              "         1.240e-01],\n",
              "        [7.760e+00, 2.454e+01, 4.792e+01, ..., 0.000e+00, 2.871e-01,\n",
              "         7.039e-02]]),\n",
              " 'target': array([0, 0, 0, 0, 0, 0, 0, 0, 0, 0, 0, 0, 0, 0, 0, 0, 0, 0, 0, 1, 1, 1,\n",
              "        0, 0, 0, 0, 0, 0, 0, 0, 0, 0, 0, 0, 0, 0, 0, 1, 0, 0, 0, 0, 0, 0,\n",
              "        0, 0, 1, 0, 1, 1, 1, 1, 1, 0, 0, 1, 0, 0, 1, 1, 1, 1, 0, 1, 0, 0,\n",
              "        1, 1, 1, 1, 0, 1, 0, 0, 1, 0, 1, 0, 0, 1, 1, 1, 0, 0, 1, 0, 0, 0,\n",
              "        1, 1, 1, 0, 1, 1, 0, 0, 1, 1, 1, 0, 0, 1, 1, 1, 1, 0, 1, 1, 0, 1,\n",
              "        1, 1, 1, 1, 1, 1, 1, 0, 0, 0, 1, 0, 0, 1, 1, 1, 0, 0, 1, 0, 1, 0,\n",
              "        0, 1, 0, 0, 1, 1, 0, 1, 1, 0, 1, 1, 1, 1, 0, 1, 1, 1, 1, 1, 1, 1,\n",
              "        1, 1, 0, 1, 1, 1, 1, 0, 0, 1, 0, 1, 1, 0, 0, 1, 1, 0, 0, 1, 1, 1,\n",
              "        1, 0, 1, 1, 0, 0, 0, 1, 0, 1, 0, 1, 1, 1, 0, 1, 1, 0, 0, 1, 0, 0,\n",
              "        0, 0, 1, 0, 0, 0, 1, 0, 1, 0, 1, 1, 0, 1, 0, 0, 0, 0, 1, 1, 0, 0,\n",
              "        1, 1, 1, 0, 1, 1, 1, 1, 1, 0, 0, 1, 1, 0, 1, 1, 0, 0, 1, 0, 1, 1,\n",
              "        1, 1, 0, 1, 1, 1, 1, 1, 0, 1, 0, 0, 0, 0, 0, 0, 0, 0, 0, 0, 0, 0,\n",
              "        0, 0, 1, 1, 1, 1, 1, 1, 0, 1, 0, 1, 1, 0, 1, 1, 0, 1, 0, 0, 1, 1,\n",
              "        1, 1, 1, 1, 1, 1, 1, 1, 1, 1, 1, 0, 1, 1, 0, 1, 0, 1, 1, 1, 1, 1,\n",
              "        1, 1, 1, 1, 1, 1, 1, 1, 1, 0, 1, 1, 1, 0, 1, 0, 1, 1, 1, 1, 0, 0,\n",
              "        0, 1, 1, 1, 1, 0, 1, 0, 1, 0, 1, 1, 1, 0, 1, 1, 1, 1, 1, 1, 1, 0,\n",
              "        0, 0, 1, 1, 1, 1, 1, 1, 1, 1, 1, 1, 1, 0, 0, 1, 0, 0, 0, 1, 0, 0,\n",
              "        1, 1, 1, 1, 1, 0, 1, 1, 1, 1, 1, 0, 1, 1, 1, 0, 1, 1, 0, 0, 1, 1,\n",
              "        1, 1, 1, 1, 0, 1, 1, 1, 1, 1, 1, 1, 0, 1, 1, 1, 1, 1, 0, 1, 1, 0,\n",
              "        1, 1, 1, 1, 1, 1, 1, 1, 1, 1, 1, 1, 0, 1, 0, 0, 1, 0, 1, 1, 1, 1,\n",
              "        1, 0, 1, 1, 0, 1, 0, 1, 1, 0, 1, 0, 1, 1, 1, 1, 1, 1, 1, 1, 0, 0,\n",
              "        1, 1, 1, 1, 1, 1, 0, 1, 1, 1, 1, 1, 1, 1, 1, 1, 1, 0, 1, 1, 1, 1,\n",
              "        1, 1, 1, 0, 1, 0, 1, 1, 0, 1, 1, 1, 1, 1, 0, 0, 1, 0, 1, 0, 1, 1,\n",
              "        1, 1, 1, 0, 1, 1, 0, 1, 0, 1, 0, 0, 1, 1, 1, 0, 1, 1, 1, 1, 1, 1,\n",
              "        1, 1, 1, 1, 1, 0, 1, 0, 0, 1, 1, 1, 1, 1, 1, 1, 1, 1, 1, 1, 1, 1,\n",
              "        1, 1, 1, 1, 1, 1, 1, 1, 1, 1, 1, 1, 0, 0, 0, 0, 0, 0, 1]),\n",
              " 'frame': None,\n",
              " 'target_names': array(['malignant', 'benign'], dtype='<U9'),\n",
              " 'DESCR': '.. _breast_cancer_dataset:\\n\\nBreast cancer wisconsin (diagnostic) dataset\\n--------------------------------------------\\n\\n**Data Set Characteristics:**\\n\\n    :Number of Instances: 569\\n\\n    :Number of Attributes: 30 numeric, predictive attributes and the class\\n\\n    :Attribute Information:\\n        - radius (mean of distances from center to points on the perimeter)\\n        - texture (standard deviation of gray-scale values)\\n        - perimeter\\n        - area\\n        - smoothness (local variation in radius lengths)\\n        - compactness (perimeter^2 / area - 1.0)\\n        - concavity (severity of concave portions of the contour)\\n        - concave points (number of concave portions of the contour)\\n        - symmetry\\n        - fractal dimension (\"coastline approximation\" - 1)\\n\\n        The mean, standard error, and \"worst\" or largest (mean of the three\\n        worst/largest values) of these features were computed for each image,\\n        resulting in 30 features.  For instance, field 0 is Mean Radius, field\\n        10 is Radius SE, field 20 is Worst Radius.\\n\\n        - class:\\n                - WDBC-Malignant\\n                - WDBC-Benign\\n\\n    :Summary Statistics:\\n\\n    ===================================== ====== ======\\n                                           Min    Max\\n    ===================================== ====== ======\\n    radius (mean):                        6.981  28.11\\n    texture (mean):                       9.71   39.28\\n    perimeter (mean):                     43.79  188.5\\n    area (mean):                          143.5  2501.0\\n    smoothness (mean):                    0.053  0.163\\n    compactness (mean):                   0.019  0.345\\n    concavity (mean):                     0.0    0.427\\n    concave points (mean):                0.0    0.201\\n    symmetry (mean):                      0.106  0.304\\n    fractal dimension (mean):             0.05   0.097\\n    radius (standard error):              0.112  2.873\\n    texture (standard error):             0.36   4.885\\n    perimeter (standard error):           0.757  21.98\\n    area (standard error):                6.802  542.2\\n    smoothness (standard error):          0.002  0.031\\n    compactness (standard error):         0.002  0.135\\n    concavity (standard error):           0.0    0.396\\n    concave points (standard error):      0.0    0.053\\n    symmetry (standard error):            0.008  0.079\\n    fractal dimension (standard error):   0.001  0.03\\n    radius (worst):                       7.93   36.04\\n    texture (worst):                      12.02  49.54\\n    perimeter (worst):                    50.41  251.2\\n    area (worst):                         185.2  4254.0\\n    smoothness (worst):                   0.071  0.223\\n    compactness (worst):                  0.027  1.058\\n    concavity (worst):                    0.0    1.252\\n    concave points (worst):               0.0    0.291\\n    symmetry (worst):                     0.156  0.664\\n    fractal dimension (worst):            0.055  0.208\\n    ===================================== ====== ======\\n\\n    :Missing Attribute Values: None\\n\\n    :Class Distribution: 212 - Malignant, 357 - Benign\\n\\n    :Creator:  Dr. William H. Wolberg, W. Nick Street, Olvi L. Mangasarian\\n\\n    :Donor: Nick Street\\n\\n    :Date: November, 1995\\n\\nThis is a copy of UCI ML Breast Cancer Wisconsin (Diagnostic) datasets.\\nhttps://goo.gl/U2Uwz2\\n\\nFeatures are computed from a digitized image of a fine needle\\naspirate (FNA) of a breast mass.  They describe\\ncharacteristics of the cell nuclei present in the image.\\n\\nSeparating plane described above was obtained using\\nMultisurface Method-Tree (MSM-T) [K. P. Bennett, \"Decision Tree\\nConstruction Via Linear Programming.\" Proceedings of the 4th\\nMidwest Artificial Intelligence and Cognitive Science Society,\\npp. 97-101, 1992], a classification method which uses linear\\nprogramming to construct a decision tree.  Relevant features\\nwere selected using an exhaustive search in the space of 1-4\\nfeatures and 1-3 separating planes.\\n\\nThe actual linear program used to obtain the separating plane\\nin the 3-dimensional space is that described in:\\n[K. P. Bennett and O. L. Mangasarian: \"Robust Linear\\nProgramming Discrimination of Two Linearly Inseparable Sets\",\\nOptimization Methods and Software 1, 1992, 23-34].\\n\\nThis database is also available through the UW CS ftp server:\\n\\nftp ftp.cs.wisc.edu\\ncd math-prog/cpo-dataset/machine-learn/WDBC/\\n\\n.. topic:: References\\n\\n   - W.N. Street, W.H. Wolberg and O.L. Mangasarian. Nuclear feature extraction \\n     for breast tumor diagnosis. IS&T/SPIE 1993 International Symposium on \\n     Electronic Imaging: Science and Technology, volume 1905, pages 861-870,\\n     San Jose, CA, 1993.\\n   - O.L. Mangasarian, W.N. Street and W.H. Wolberg. Breast cancer diagnosis and \\n     prognosis via linear programming. Operations Research, 43(4), pages 570-577, \\n     July-August 1995.\\n   - W.H. Wolberg, W.N. Street, and O.L. Mangasarian. Machine learning techniques\\n     to diagnose breast cancer from fine-needle aspirates. Cancer Letters 77 (1994) \\n     163-171.',\n",
              " 'feature_names': array(['mean radius', 'mean texture', 'mean perimeter', 'mean area',\n",
              "        'mean smoothness', 'mean compactness', 'mean concavity',\n",
              "        'mean concave points', 'mean symmetry', 'mean fractal dimension',\n",
              "        'radius error', 'texture error', 'perimeter error', 'area error',\n",
              "        'smoothness error', 'compactness error', 'concavity error',\n",
              "        'concave points error', 'symmetry error',\n",
              "        'fractal dimension error', 'worst radius', 'worst texture',\n",
              "        'worst perimeter', 'worst area', 'worst smoothness',\n",
              "        'worst compactness', 'worst concavity', 'worst concave points',\n",
              "        'worst symmetry', 'worst fractal dimension'], dtype='<U23'),\n",
              " 'filename': 'breast_cancer.csv',\n",
              " 'data_module': 'sklearn.datasets.data'}"
            ]
          },
          "metadata": {},
          "execution_count": 4
        }
      ]
    },
    {
      "cell_type": "code",
      "source": [
        "type(data)"
      ],
      "metadata": {
        "colab": {
          "base_uri": "https://localhost:8080/"
        },
        "id": "XaRe4h7lIl7-",
        "outputId": "4d86184a-0ac3-4a36-9df5-5c7c480d4e47"
      },
      "execution_count": 5,
      "outputs": [
        {
          "output_type": "execute_result",
          "data": {
            "text/plain": [
              "sklearn.utils._bunch.Bunch"
            ]
          },
          "metadata": {},
          "execution_count": 5
        }
      ]
    },
    {
      "cell_type": "code",
      "source": [
        "data.keys()"
      ],
      "metadata": {
        "colab": {
          "base_uri": "https://localhost:8080/"
        },
        "id": "86AOhnmrIrwa",
        "outputId": "3e224557-ef40-4478-bc06-0b0ca03965cc"
      },
      "execution_count": 6,
      "outputs": [
        {
          "output_type": "execute_result",
          "data": {
            "text/plain": [
              "dict_keys(['data', 'target', 'frame', 'target_names', 'DESCR', 'feature_names', 'filename', 'data_module'])"
            ]
          },
          "metadata": {},
          "execution_count": 6
        }
      ]
    },
    {
      "cell_type": "code",
      "source": [
        "data.data.shape # (m, d) m: número de muestras y d: número de features/características"
      ],
      "metadata": {
        "colab": {
          "base_uri": "https://localhost:8080/"
        },
        "id": "XtCS5MUoIxIn",
        "outputId": "8116c1de-4b14-4ce3-8c99-199045a75ee0"
      },
      "execution_count": 7,
      "outputs": [
        {
          "output_type": "execute_result",
          "data": {
            "text/plain": [
              "(569, 30)"
            ]
          },
          "metadata": {},
          "execution_count": 7
        }
      ]
    },
    {
      "cell_type": "code",
      "source": [
        "data.target # Problema de clasificación binaria"
      ],
      "metadata": {
        "colab": {
          "base_uri": "https://localhost:8080/"
        },
        "id": "mOYKxmUUI4B0",
        "outputId": "1141f4b0-18a4-401e-ef39-4fe49706cda3"
      },
      "execution_count": 8,
      "outputs": [
        {
          "output_type": "execute_result",
          "data": {
            "text/plain": [
              "array([0, 0, 0, 0, 0, 0, 0, 0, 0, 0, 0, 0, 0, 0, 0, 0, 0, 0, 0, 1, 1, 1,\n",
              "       0, 0, 0, 0, 0, 0, 0, 0, 0, 0, 0, 0, 0, 0, 0, 1, 0, 0, 0, 0, 0, 0,\n",
              "       0, 0, 1, 0, 1, 1, 1, 1, 1, 0, 0, 1, 0, 0, 1, 1, 1, 1, 0, 1, 0, 0,\n",
              "       1, 1, 1, 1, 0, 1, 0, 0, 1, 0, 1, 0, 0, 1, 1, 1, 0, 0, 1, 0, 0, 0,\n",
              "       1, 1, 1, 0, 1, 1, 0, 0, 1, 1, 1, 0, 0, 1, 1, 1, 1, 0, 1, 1, 0, 1,\n",
              "       1, 1, 1, 1, 1, 1, 1, 0, 0, 0, 1, 0, 0, 1, 1, 1, 0, 0, 1, 0, 1, 0,\n",
              "       0, 1, 0, 0, 1, 1, 0, 1, 1, 0, 1, 1, 1, 1, 0, 1, 1, 1, 1, 1, 1, 1,\n",
              "       1, 1, 0, 1, 1, 1, 1, 0, 0, 1, 0, 1, 1, 0, 0, 1, 1, 0, 0, 1, 1, 1,\n",
              "       1, 0, 1, 1, 0, 0, 0, 1, 0, 1, 0, 1, 1, 1, 0, 1, 1, 0, 0, 1, 0, 0,\n",
              "       0, 0, 1, 0, 0, 0, 1, 0, 1, 0, 1, 1, 0, 1, 0, 0, 0, 0, 1, 1, 0, 0,\n",
              "       1, 1, 1, 0, 1, 1, 1, 1, 1, 0, 0, 1, 1, 0, 1, 1, 0, 0, 1, 0, 1, 1,\n",
              "       1, 1, 0, 1, 1, 1, 1, 1, 0, 1, 0, 0, 0, 0, 0, 0, 0, 0, 0, 0, 0, 0,\n",
              "       0, 0, 1, 1, 1, 1, 1, 1, 0, 1, 0, 1, 1, 0, 1, 1, 0, 1, 0, 0, 1, 1,\n",
              "       1, 1, 1, 1, 1, 1, 1, 1, 1, 1, 1, 0, 1, 1, 0, 1, 0, 1, 1, 1, 1, 1,\n",
              "       1, 1, 1, 1, 1, 1, 1, 1, 1, 0, 1, 1, 1, 0, 1, 0, 1, 1, 1, 1, 0, 0,\n",
              "       0, 1, 1, 1, 1, 0, 1, 0, 1, 0, 1, 1, 1, 0, 1, 1, 1, 1, 1, 1, 1, 0,\n",
              "       0, 0, 1, 1, 1, 1, 1, 1, 1, 1, 1, 1, 1, 0, 0, 1, 0, 0, 0, 1, 0, 0,\n",
              "       1, 1, 1, 1, 1, 0, 1, 1, 1, 1, 1, 0, 1, 1, 1, 0, 1, 1, 0, 0, 1, 1,\n",
              "       1, 1, 1, 1, 0, 1, 1, 1, 1, 1, 1, 1, 0, 1, 1, 1, 1, 1, 0, 1, 1, 0,\n",
              "       1, 1, 1, 1, 1, 1, 1, 1, 1, 1, 1, 1, 0, 1, 0, 0, 1, 0, 1, 1, 1, 1,\n",
              "       1, 0, 1, 1, 0, 1, 0, 1, 1, 0, 1, 0, 1, 1, 1, 1, 1, 1, 1, 1, 0, 0,\n",
              "       1, 1, 1, 1, 1, 1, 0, 1, 1, 1, 1, 1, 1, 1, 1, 1, 1, 0, 1, 1, 1, 1,\n",
              "       1, 1, 1, 0, 1, 0, 1, 1, 0, 1, 1, 1, 1, 1, 0, 0, 1, 0, 1, 0, 1, 1,\n",
              "       1, 1, 1, 0, 1, 1, 0, 1, 0, 1, 0, 0, 1, 1, 1, 0, 1, 1, 1, 1, 1, 1,\n",
              "       1, 1, 1, 1, 1, 0, 1, 0, 0, 1, 1, 1, 1, 1, 1, 1, 1, 1, 1, 1, 1, 1,\n",
              "       1, 1, 1, 1, 1, 1, 1, 1, 1, 1, 1, 1, 0, 0, 0, 0, 0, 0, 1])"
            ]
          },
          "metadata": {},
          "execution_count": 8
        }
      ]
    },
    {
      "cell_type": "code",
      "source": [
        "data.target_names"
      ],
      "metadata": {
        "colab": {
          "base_uri": "https://localhost:8080/"
        },
        "id": "YhXD6_sMI3_i",
        "outputId": "a9fea05e-49f6-43a0-bc3b-3925d357d094"
      },
      "execution_count": 9,
      "outputs": [
        {
          "output_type": "execute_result",
          "data": {
            "text/plain": [
              "array(['malignant', 'benign'], dtype='<U9')"
            ]
          },
          "metadata": {},
          "execution_count": 9
        }
      ]
    },
    {
      "cell_type": "code",
      "source": [
        "data.target.shape # m debe ser igual que en data"
      ],
      "metadata": {
        "colab": {
          "base_uri": "https://localhost:8080/"
        },
        "id": "N2_jLdc2I38N",
        "outputId": "fb0cc4ae-1e95-41db-c8fc-07f6a6910c64"
      },
      "execution_count": 10,
      "outputs": [
        {
          "output_type": "execute_result",
          "data": {
            "text/plain": [
              "(569,)"
            ]
          },
          "metadata": {},
          "execution_count": 10
        }
      ]
    },
    {
      "cell_type": "code",
      "source": [
        "data.data "
      ],
      "metadata": {
        "colab": {
          "base_uri": "https://localhost:8080/"
        },
        "id": "vt12_rhKI36J",
        "outputId": "e2138c02-41ec-42b5-aa4e-098772fd7607"
      },
      "execution_count": 11,
      "outputs": [
        {
          "output_type": "execute_result",
          "data": {
            "text/plain": [
              "array([[1.799e+01, 1.038e+01, 1.228e+02, ..., 2.654e-01, 4.601e-01,\n",
              "        1.189e-01],\n",
              "       [2.057e+01, 1.777e+01, 1.329e+02, ..., 1.860e-01, 2.750e-01,\n",
              "        8.902e-02],\n",
              "       [1.969e+01, 2.125e+01, 1.300e+02, ..., 2.430e-01, 3.613e-01,\n",
              "        8.758e-02],\n",
              "       ...,\n",
              "       [1.660e+01, 2.808e+01, 1.083e+02, ..., 1.418e-01, 2.218e-01,\n",
              "        7.820e-02],\n",
              "       [2.060e+01, 2.933e+01, 1.401e+02, ..., 2.650e-01, 4.087e-01,\n",
              "        1.240e-01],\n",
              "       [7.760e+00, 2.454e+01, 4.792e+01, ..., 0.000e+00, 2.871e-01,\n",
              "        7.039e-02]])"
            ]
          },
          "metadata": {},
          "execution_count": 11
        }
      ]
    },
    {
      "cell_type": "code",
      "source": [
        "# Es importante saber qué significan las features, por lo que debemos ver qué \n",
        "  # significa cada elemento\n",
        "\n",
        "data.feature_names"
      ],
      "metadata": {
        "colab": {
          "base_uri": "https://localhost:8080/"
        },
        "id": "U1Loj1PxI34H",
        "outputId": "b9db74e1-7f57-484c-c2a2-60a8fd61f566"
      },
      "execution_count": 12,
      "outputs": [
        {
          "output_type": "execute_result",
          "data": {
            "text/plain": [
              "array(['mean radius', 'mean texture', 'mean perimeter', 'mean area',\n",
              "       'mean smoothness', 'mean compactness', 'mean concavity',\n",
              "       'mean concave points', 'mean symmetry', 'mean fractal dimension',\n",
              "       'radius error', 'texture error', 'perimeter error', 'area error',\n",
              "       'smoothness error', 'compactness error', 'concavity error',\n",
              "       'concave points error', 'symmetry error',\n",
              "       'fractal dimension error', 'worst radius', 'worst texture',\n",
              "       'worst perimeter', 'worst area', 'worst smoothness',\n",
              "       'worst compactness', 'worst concavity', 'worst concave points',\n",
              "       'worst symmetry', 'worst fractal dimension'], dtype='<U23')"
            ]
          },
          "metadata": {},
          "execution_count": 12
        }
      ]
    },
    {
      "cell_type": "code",
      "source": [
        "from sklearn.model_selection import train_test_split\n",
        "\n",
        "X_train, X_test, y_train, y_test = train_test_split(\n",
        "                                                    data.data, data.target, \n",
        "                                                    test_size=0.33, random_state=31\n",
        "                                                  )"
      ],
      "metadata": {
        "id": "oK4A2DYEJQfu"
      },
      "execution_count": 13,
      "outputs": []
    },
    {
      "cell_type": "code",
      "source": [
        "M, D = X_train.shape"
      ],
      "metadata": {
        "id": "pWJ2A5a9JQd9"
      },
      "execution_count": 14,
      "outputs": []
    },
    {
      "cell_type": "code",
      "source": [
        "print(M, D)"
      ],
      "metadata": {
        "colab": {
          "base_uri": "https://localhost:8080/"
        },
        "id": "6-gbBZyOJQb-",
        "outputId": "84c678dd-819c-4de7-aeca-c4f3f65011ea"
      },
      "execution_count": 15,
      "outputs": [
        {
          "output_type": "stream",
          "name": "stdout",
          "text": [
            "381 30\n"
          ]
        }
      ]
    },
    {
      "cell_type": "code",
      "source": [
        "# Debemos escalar la data\n",
        "\n",
        "from sklearn.preprocessing import StandardScaler\n",
        "\n",
        "scaler = StandardScaler()\n",
        "X_train = scaler.fit_transform(X_train) # Ajustados (fit) solo en el entrenamiento,\n",
        "                                          # dado que los parámetros del modelo deben ser ajustado a partir de este set de datos.\n",
        "X_test = scaler.transform(X_test)"
      ],
      "metadata": {
        "id": "3WGT6g2VJQZ3"
      },
      "execution_count": 16,
      "outputs": []
    },
    {
      "cell_type": "code",
      "source": [],
      "metadata": {
        "id": "nKrbNL_MJ449"
      },
      "execution_count": 16,
      "outputs": []
    },
    {
      "cell_type": "markdown",
      "source": [
        "## Model building"
      ],
      "metadata": {
        "id": "hO2fYQFeI0HY"
      }
    },
    {
      "cell_type": "code",
      "source": [
        "model = tf.keras.models.Sequential([\n",
        "    tf.keras.layers.Input(shape=(D,)),\n",
        "    tf.keras.layers.Dense(1, activation='sigmoid') # 1 porque solo queremos 1 output,\n",
        "])"
      ],
      "metadata": {
        "id": "qE-vMZcQI1VI"
      },
      "execution_count": 17,
      "outputs": []
    },
    {
      "cell_type": "code",
      "source": [
        "model.compile(\n",
        "    optimizer='adam',\n",
        "    loss='binary_crossentropy', # este loss va con el sigmoid y con la clasificación binaria\n",
        "    metrics=['accuracy']\n",
        ") # "
      ],
      "metadata": {
        "id": "AeU7lorNLEHh"
      },
      "execution_count": 18,
      "outputs": []
    },
    {
      "cell_type": "markdown",
      "source": [
        "## Model training"
      ],
      "metadata": {
        "id": "Taeg4AYxLduU"
      }
    },
    {
      "cell_type": "code",
      "source": [
        "r = model.fit(X_train, y_train,\n",
        "              validation_data=(X_test, y_test),\n",
        "              epochs=100\n",
        "              )"
      ],
      "metadata": {
        "colab": {
          "base_uri": "https://localhost:8080/"
        },
        "id": "G3LfK_X3Lesa",
        "outputId": "c3bf1d7a-0b05-4ae4-b2a9-531ed6cd2935"
      },
      "execution_count": 19,
      "outputs": [
        {
          "output_type": "stream",
          "name": "stdout",
          "text": [
            "Epoch 1/100\n",
            "12/12 [==============================] - 5s 20ms/step - loss: 0.6703 - accuracy: 0.6929 - val_loss: 0.6848 - val_accuracy: 0.6436\n",
            "Epoch 2/100\n",
            "12/12 [==============================] - 0s 7ms/step - loss: 0.6211 - accuracy: 0.7113 - val_loss: 0.6378 - val_accuracy: 0.6809\n",
            "Epoch 3/100\n",
            "12/12 [==============================] - 0s 6ms/step - loss: 0.5765 - accuracy: 0.7428 - val_loss: 0.5960 - val_accuracy: 0.7287\n",
            "Epoch 4/100\n",
            "12/12 [==============================] - 0s 7ms/step - loss: 0.5370 - accuracy: 0.7664 - val_loss: 0.5586 - val_accuracy: 0.7500\n",
            "Epoch 5/100\n",
            "12/12 [==============================] - 0s 7ms/step - loss: 0.5018 - accuracy: 0.7953 - val_loss: 0.5254 - val_accuracy: 0.7819\n",
            "Epoch 6/100\n",
            "12/12 [==============================] - 0s 7ms/step - loss: 0.4703 - accuracy: 0.8084 - val_loss: 0.4957 - val_accuracy: 0.8032\n",
            "Epoch 7/100\n",
            "12/12 [==============================] - 0s 7ms/step - loss: 0.4415 - accuracy: 0.8294 - val_loss: 0.4695 - val_accuracy: 0.8245\n",
            "Epoch 8/100\n",
            "12/12 [==============================] - 0s 6ms/step - loss: 0.4166 - accuracy: 0.8373 - val_loss: 0.4450 - val_accuracy: 0.8351\n",
            "Epoch 9/100\n",
            "12/12 [==============================] - 0s 6ms/step - loss: 0.3926 - accuracy: 0.8478 - val_loss: 0.4237 - val_accuracy: 0.8351\n",
            "Epoch 10/100\n",
            "12/12 [==============================] - 0s 7ms/step - loss: 0.3719 - accuracy: 0.8661 - val_loss: 0.4040 - val_accuracy: 0.8404\n",
            "Epoch 11/100\n",
            "12/12 [==============================] - 0s 6ms/step - loss: 0.3536 - accuracy: 0.8740 - val_loss: 0.3851 - val_accuracy: 0.8617\n",
            "Epoch 12/100\n",
            "12/12 [==============================] - 0s 6ms/step - loss: 0.3355 - accuracy: 0.8793 - val_loss: 0.3687 - val_accuracy: 0.8617\n",
            "Epoch 13/100\n",
            "12/12 [==============================] - 0s 7ms/step - loss: 0.3193 - accuracy: 0.8871 - val_loss: 0.3539 - val_accuracy: 0.8670\n",
            "Epoch 14/100\n",
            "12/12 [==============================] - 0s 7ms/step - loss: 0.3050 - accuracy: 0.8976 - val_loss: 0.3402 - val_accuracy: 0.8670\n",
            "Epoch 15/100\n",
            "12/12 [==============================] - 0s 6ms/step - loss: 0.2919 - accuracy: 0.9003 - val_loss: 0.3272 - val_accuracy: 0.8830\n",
            "Epoch 16/100\n",
            "12/12 [==============================] - 0s 7ms/step - loss: 0.2800 - accuracy: 0.9003 - val_loss: 0.3151 - val_accuracy: 0.8830\n",
            "Epoch 17/100\n",
            "12/12 [==============================] - 0s 7ms/step - loss: 0.2689 - accuracy: 0.9055 - val_loss: 0.3039 - val_accuracy: 0.8936\n",
            "Epoch 18/100\n",
            "12/12 [==============================] - 0s 6ms/step - loss: 0.2583 - accuracy: 0.9081 - val_loss: 0.2939 - val_accuracy: 0.8989\n",
            "Epoch 19/100\n",
            "12/12 [==============================] - 0s 6ms/step - loss: 0.2488 - accuracy: 0.9108 - val_loss: 0.2847 - val_accuracy: 0.8989\n",
            "Epoch 20/100\n",
            "12/12 [==============================] - 0s 6ms/step - loss: 0.2402 - accuracy: 0.9134 - val_loss: 0.2762 - val_accuracy: 0.8989\n",
            "Epoch 21/100\n",
            "12/12 [==============================] - 0s 6ms/step - loss: 0.2326 - accuracy: 0.9160 - val_loss: 0.2677 - val_accuracy: 0.9043\n",
            "Epoch 22/100\n",
            "12/12 [==============================] - 0s 6ms/step - loss: 0.2249 - accuracy: 0.9213 - val_loss: 0.2602 - val_accuracy: 0.9096\n",
            "Epoch 23/100\n",
            "12/12 [==============================] - 0s 6ms/step - loss: 0.2184 - accuracy: 0.9239 - val_loss: 0.2527 - val_accuracy: 0.9096\n",
            "Epoch 24/100\n",
            "12/12 [==============================] - 0s 7ms/step - loss: 0.2117 - accuracy: 0.9239 - val_loss: 0.2462 - val_accuracy: 0.9096\n",
            "Epoch 25/100\n",
            "12/12 [==============================] - 0s 6ms/step - loss: 0.2059 - accuracy: 0.9239 - val_loss: 0.2398 - val_accuracy: 0.9202\n",
            "Epoch 26/100\n",
            "12/12 [==============================] - 0s 7ms/step - loss: 0.2005 - accuracy: 0.9291 - val_loss: 0.2336 - val_accuracy: 0.9255\n",
            "Epoch 27/100\n",
            "12/12 [==============================] - 0s 7ms/step - loss: 0.1952 - accuracy: 0.9344 - val_loss: 0.2281 - val_accuracy: 0.9255\n",
            "Epoch 28/100\n",
            "12/12 [==============================] - 0s 7ms/step - loss: 0.1905 - accuracy: 0.9396 - val_loss: 0.2229 - val_accuracy: 0.9255\n",
            "Epoch 29/100\n",
            "12/12 [==============================] - 0s 7ms/step - loss: 0.1859 - accuracy: 0.9449 - val_loss: 0.2178 - val_accuracy: 0.9362\n",
            "Epoch 30/100\n",
            "12/12 [==============================] - 0s 7ms/step - loss: 0.1817 - accuracy: 0.9449 - val_loss: 0.2133 - val_accuracy: 0.9415\n",
            "Epoch 31/100\n",
            "12/12 [==============================] - 0s 6ms/step - loss: 0.1779 - accuracy: 0.9449 - val_loss: 0.2085 - val_accuracy: 0.9468\n",
            "Epoch 32/100\n",
            "12/12 [==============================] - 0s 6ms/step - loss: 0.1741 - accuracy: 0.9475 - val_loss: 0.2040 - val_accuracy: 0.9468\n",
            "Epoch 33/100\n",
            "12/12 [==============================] - 0s 6ms/step - loss: 0.1706 - accuracy: 0.9475 - val_loss: 0.1998 - val_accuracy: 0.9468\n",
            "Epoch 34/100\n",
            "12/12 [==============================] - 0s 5ms/step - loss: 0.1671 - accuracy: 0.9475 - val_loss: 0.1962 - val_accuracy: 0.9468\n",
            "Epoch 35/100\n",
            "12/12 [==============================] - 0s 6ms/step - loss: 0.1643 - accuracy: 0.9475 - val_loss: 0.1923 - val_accuracy: 0.9468\n",
            "Epoch 36/100\n",
            "12/12 [==============================] - 0s 6ms/step - loss: 0.1610 - accuracy: 0.9501 - val_loss: 0.1888 - val_accuracy: 0.9468\n",
            "Epoch 37/100\n",
            "12/12 [==============================] - 0s 7ms/step - loss: 0.1582 - accuracy: 0.9528 - val_loss: 0.1854 - val_accuracy: 0.9468\n",
            "Epoch 38/100\n",
            "12/12 [==============================] - 0s 7ms/step - loss: 0.1555 - accuracy: 0.9554 - val_loss: 0.1821 - val_accuracy: 0.9468\n",
            "Epoch 39/100\n",
            "12/12 [==============================] - 0s 7ms/step - loss: 0.1530 - accuracy: 0.9554 - val_loss: 0.1788 - val_accuracy: 0.9468\n",
            "Epoch 40/100\n",
            "12/12 [==============================] - 0s 8ms/step - loss: 0.1505 - accuracy: 0.9580 - val_loss: 0.1759 - val_accuracy: 0.9521\n",
            "Epoch 41/100\n",
            "12/12 [==============================] - 0s 6ms/step - loss: 0.1483 - accuracy: 0.9580 - val_loss: 0.1729 - val_accuracy: 0.9521\n",
            "Epoch 42/100\n",
            "12/12 [==============================] - 0s 6ms/step - loss: 0.1458 - accuracy: 0.9580 - val_loss: 0.1704 - val_accuracy: 0.9574\n",
            "Epoch 43/100\n",
            "12/12 [==============================] - 0s 6ms/step - loss: 0.1439 - accuracy: 0.9580 - val_loss: 0.1677 - val_accuracy: 0.9574\n",
            "Epoch 44/100\n",
            "12/12 [==============================] - 0s 7ms/step - loss: 0.1417 - accuracy: 0.9580 - val_loss: 0.1652 - val_accuracy: 0.9574\n",
            "Epoch 45/100\n",
            "12/12 [==============================] - 0s 7ms/step - loss: 0.1398 - accuracy: 0.9580 - val_loss: 0.1629 - val_accuracy: 0.9628\n",
            "Epoch 46/100\n",
            "12/12 [==============================] - 0s 6ms/step - loss: 0.1380 - accuracy: 0.9580 - val_loss: 0.1606 - val_accuracy: 0.9628\n",
            "Epoch 47/100\n",
            "12/12 [==============================] - 0s 8ms/step - loss: 0.1362 - accuracy: 0.9580 - val_loss: 0.1583 - val_accuracy: 0.9628\n",
            "Epoch 48/100\n",
            "12/12 [==============================] - 0s 6ms/step - loss: 0.1344 - accuracy: 0.9580 - val_loss: 0.1562 - val_accuracy: 0.9628\n",
            "Epoch 49/100\n",
            "12/12 [==============================] - 0s 6ms/step - loss: 0.1328 - accuracy: 0.9580 - val_loss: 0.1542 - val_accuracy: 0.9628\n",
            "Epoch 50/100\n",
            "12/12 [==============================] - 0s 8ms/step - loss: 0.1312 - accuracy: 0.9606 - val_loss: 0.1521 - val_accuracy: 0.9628\n",
            "Epoch 51/100\n",
            "12/12 [==============================] - 0s 7ms/step - loss: 0.1296 - accuracy: 0.9606 - val_loss: 0.1502 - val_accuracy: 0.9628\n",
            "Epoch 52/100\n",
            "12/12 [==============================] - 0s 7ms/step - loss: 0.1281 - accuracy: 0.9606 - val_loss: 0.1484 - val_accuracy: 0.9681\n",
            "Epoch 53/100\n",
            "12/12 [==============================] - 0s 6ms/step - loss: 0.1268 - accuracy: 0.9606 - val_loss: 0.1465 - val_accuracy: 0.9681\n",
            "Epoch 54/100\n",
            "12/12 [==============================] - 0s 7ms/step - loss: 0.1253 - accuracy: 0.9606 - val_loss: 0.1449 - val_accuracy: 0.9681\n",
            "Epoch 55/100\n",
            "12/12 [==============================] - 0s 7ms/step - loss: 0.1240 - accuracy: 0.9606 - val_loss: 0.1434 - val_accuracy: 0.9681\n",
            "Epoch 56/100\n",
            "12/12 [==============================] - 0s 6ms/step - loss: 0.1228 - accuracy: 0.9606 - val_loss: 0.1417 - val_accuracy: 0.9734\n",
            "Epoch 57/100\n",
            "12/12 [==============================] - 0s 6ms/step - loss: 0.1215 - accuracy: 0.9606 - val_loss: 0.1403 - val_accuracy: 0.9734\n",
            "Epoch 58/100\n",
            "12/12 [==============================] - 0s 8ms/step - loss: 0.1204 - accuracy: 0.9633 - val_loss: 0.1388 - val_accuracy: 0.9734\n",
            "Epoch 59/100\n",
            "12/12 [==============================] - 0s 10ms/step - loss: 0.1192 - accuracy: 0.9633 - val_loss: 0.1374 - val_accuracy: 0.9734\n",
            "Epoch 60/100\n",
            "12/12 [==============================] - 0s 9ms/step - loss: 0.1180 - accuracy: 0.9659 - val_loss: 0.1360 - val_accuracy: 0.9734\n",
            "Epoch 61/100\n",
            "12/12 [==============================] - 0s 9ms/step - loss: 0.1169 - accuracy: 0.9659 - val_loss: 0.1347 - val_accuracy: 0.9787\n",
            "Epoch 62/100\n",
            "12/12 [==============================] - 0s 9ms/step - loss: 0.1159 - accuracy: 0.9659 - val_loss: 0.1335 - val_accuracy: 0.9787\n",
            "Epoch 63/100\n",
            "12/12 [==============================] - 0s 9ms/step - loss: 0.1149 - accuracy: 0.9685 - val_loss: 0.1322 - val_accuracy: 0.9787\n",
            "Epoch 64/100\n",
            "12/12 [==============================] - 0s 8ms/step - loss: 0.1139 - accuracy: 0.9685 - val_loss: 0.1310 - val_accuracy: 0.9787\n",
            "Epoch 65/100\n",
            "12/12 [==============================] - 0s 8ms/step - loss: 0.1129 - accuracy: 0.9738 - val_loss: 0.1299 - val_accuracy: 0.9787\n",
            "Epoch 66/100\n",
            "12/12 [==============================] - 0s 9ms/step - loss: 0.1119 - accuracy: 0.9738 - val_loss: 0.1288 - val_accuracy: 0.9787\n",
            "Epoch 67/100\n",
            "12/12 [==============================] - 0s 8ms/step - loss: 0.1111 - accuracy: 0.9738 - val_loss: 0.1277 - val_accuracy: 0.9787\n",
            "Epoch 68/100\n",
            "12/12 [==============================] - 0s 9ms/step - loss: 0.1102 - accuracy: 0.9738 - val_loss: 0.1268 - val_accuracy: 0.9787\n",
            "Epoch 69/100\n",
            "12/12 [==============================] - 0s 9ms/step - loss: 0.1093 - accuracy: 0.9738 - val_loss: 0.1257 - val_accuracy: 0.9787\n",
            "Epoch 70/100\n",
            "12/12 [==============================] - 0s 10ms/step - loss: 0.1085 - accuracy: 0.9738 - val_loss: 0.1247 - val_accuracy: 0.9787\n",
            "Epoch 71/100\n",
            "12/12 [==============================] - 0s 9ms/step - loss: 0.1077 - accuracy: 0.9738 - val_loss: 0.1238 - val_accuracy: 0.9787\n",
            "Epoch 72/100\n",
            "12/12 [==============================] - 0s 9ms/step - loss: 0.1069 - accuracy: 0.9738 - val_loss: 0.1229 - val_accuracy: 0.9787\n",
            "Epoch 73/100\n",
            "12/12 [==============================] - 0s 8ms/step - loss: 0.1061 - accuracy: 0.9738 - val_loss: 0.1220 - val_accuracy: 0.9787\n",
            "Epoch 74/100\n",
            "12/12 [==============================] - 0s 9ms/step - loss: 0.1054 - accuracy: 0.9738 - val_loss: 0.1211 - val_accuracy: 0.9840\n",
            "Epoch 75/100\n",
            "12/12 [==============================] - 0s 8ms/step - loss: 0.1046 - accuracy: 0.9738 - val_loss: 0.1203 - val_accuracy: 0.9840\n",
            "Epoch 76/100\n",
            "12/12 [==============================] - 0s 9ms/step - loss: 0.1039 - accuracy: 0.9738 - val_loss: 0.1195 - val_accuracy: 0.9840\n",
            "Epoch 77/100\n",
            "12/12 [==============================] - 0s 9ms/step - loss: 0.1032 - accuracy: 0.9738 - val_loss: 0.1188 - val_accuracy: 0.9840\n",
            "Epoch 78/100\n",
            "12/12 [==============================] - 0s 8ms/step - loss: 0.1025 - accuracy: 0.9738 - val_loss: 0.1180 - val_accuracy: 0.9840\n",
            "Epoch 79/100\n",
            "12/12 [==============================] - 0s 9ms/step - loss: 0.1019 - accuracy: 0.9738 - val_loss: 0.1173 - val_accuracy: 0.9840\n",
            "Epoch 80/100\n",
            "12/12 [==============================] - 0s 8ms/step - loss: 0.1013 - accuracy: 0.9738 - val_loss: 0.1165 - val_accuracy: 0.9840\n",
            "Epoch 81/100\n",
            "12/12 [==============================] - 0s 9ms/step - loss: 0.1006 - accuracy: 0.9738 - val_loss: 0.1158 - val_accuracy: 0.9840\n",
            "Epoch 82/100\n",
            "12/12 [==============================] - 0s 8ms/step - loss: 0.1000 - accuracy: 0.9738 - val_loss: 0.1151 - val_accuracy: 0.9787\n",
            "Epoch 83/100\n",
            "12/12 [==============================] - 0s 7ms/step - loss: 0.0994 - accuracy: 0.9764 - val_loss: 0.1145 - val_accuracy: 0.9787\n",
            "Epoch 84/100\n",
            "12/12 [==============================] - 0s 7ms/step - loss: 0.0988 - accuracy: 0.9764 - val_loss: 0.1138 - val_accuracy: 0.9787\n",
            "Epoch 85/100\n",
            "12/12 [==============================] - 0s 6ms/step - loss: 0.0982 - accuracy: 0.9764 - val_loss: 0.1132 - val_accuracy: 0.9787\n",
            "Epoch 86/100\n",
            "12/12 [==============================] - 0s 7ms/step - loss: 0.0977 - accuracy: 0.9764 - val_loss: 0.1126 - val_accuracy: 0.9787\n",
            "Epoch 87/100\n",
            "12/12 [==============================] - 0s 6ms/step - loss: 0.0971 - accuracy: 0.9764 - val_loss: 0.1120 - val_accuracy: 0.9787\n",
            "Epoch 88/100\n",
            "12/12 [==============================] - 0s 6ms/step - loss: 0.0966 - accuracy: 0.9764 - val_loss: 0.1114 - val_accuracy: 0.9787\n",
            "Epoch 89/100\n",
            "12/12 [==============================] - 0s 7ms/step - loss: 0.0960 - accuracy: 0.9790 - val_loss: 0.1108 - val_accuracy: 0.9787\n",
            "Epoch 90/100\n",
            "12/12 [==============================] - 0s 6ms/step - loss: 0.0955 - accuracy: 0.9790 - val_loss: 0.1103 - val_accuracy: 0.9787\n",
            "Epoch 91/100\n",
            "12/12 [==============================] - 0s 7ms/step - loss: 0.0950 - accuracy: 0.9790 - val_loss: 0.1098 - val_accuracy: 0.9787\n",
            "Epoch 92/100\n",
            "12/12 [==============================] - 0s 6ms/step - loss: 0.0945 - accuracy: 0.9790 - val_loss: 0.1093 - val_accuracy: 0.9787\n",
            "Epoch 93/100\n",
            "12/12 [==============================] - 0s 8ms/step - loss: 0.0940 - accuracy: 0.9790 - val_loss: 0.1087 - val_accuracy: 0.9787\n",
            "Epoch 94/100\n",
            "12/12 [==============================] - 0s 7ms/step - loss: 0.0935 - accuracy: 0.9790 - val_loss: 0.1082 - val_accuracy: 0.9787\n",
            "Epoch 95/100\n",
            "12/12 [==============================] - 0s 6ms/step - loss: 0.0931 - accuracy: 0.9790 - val_loss: 0.1077 - val_accuracy: 0.9787\n",
            "Epoch 96/100\n",
            "12/12 [==============================] - 0s 7ms/step - loss: 0.0926 - accuracy: 0.9790 - val_loss: 0.1072 - val_accuracy: 0.9787\n",
            "Epoch 97/100\n",
            "12/12 [==============================] - 0s 6ms/step - loss: 0.0922 - accuracy: 0.9790 - val_loss: 0.1068 - val_accuracy: 0.9787\n",
            "Epoch 98/100\n",
            "12/12 [==============================] - 0s 7ms/step - loss: 0.0917 - accuracy: 0.9790 - val_loss: 0.1063 - val_accuracy: 0.9787\n",
            "Epoch 99/100\n",
            "12/12 [==============================] - 0s 7ms/step - loss: 0.0913 - accuracy: 0.9790 - val_loss: 0.1059 - val_accuracy: 0.9787\n",
            "Epoch 100/100\n",
            "12/12 [==============================] - 0s 6ms/step - loss: 0.0909 - accuracy: 0.9790 - val_loss: 0.1055 - val_accuracy: 0.9787\n"
          ]
        }
      ]
    },
    {
      "cell_type": "markdown",
      "source": [
        "## Model results"
      ],
      "metadata": {
        "id": "x8tEf90FL99M"
      }
    },
    {
      "cell_type": "code",
      "source": [
        "print(\"Training score:\", model.evaluate(X_train, y_train))\n",
        "print(\"Test score:\", model.evaluate(X_test, y_test))"
      ],
      "metadata": {
        "colab": {
          "base_uri": "https://localhost:8080/"
        },
        "id": "xqa9dasVLoBP",
        "outputId": "51f1e39b-e8f6-4462-8102-634480910650"
      },
      "execution_count": 20,
      "outputs": [
        {
          "output_type": "stream",
          "name": "stdout",
          "text": [
            "12/12 [==============================] - 0s 3ms/step - loss: 0.0906 - accuracy: 0.9790\n",
            "Training score: [0.09058354794979095, 0.9790025949478149]\n",
            "6/6 [==============================] - 0s 4ms/step - loss: 0.1055 - accuracy: 0.9787\n",
            "Test score: [0.10545062273740768, 0.978723406791687]\n"
          ]
        }
      ]
    },
    {
      "cell_type": "code",
      "source": [
        "import matplotlib.pyplot as plt\n",
        "import seaborn as sns\n",
        "sns.set_style('darkgrid')"
      ],
      "metadata": {
        "id": "OrFv6jSxL_Ud"
      },
      "execution_count": 21,
      "outputs": []
    },
    {
      "cell_type": "code",
      "source": [
        "\n",
        "# Ajusta el tamaño del gráfico (ancho, alto)\n",
        "plt.figure(figsize=(12, 8))\n",
        "\n",
        "# Grafica las curvas de pérdida y validación\n",
        "plt.plot(r.history['loss'], label='loss')\n",
        "plt.plot(r.history['val_loss'], label='validation_loss')\n",
        "\n",
        "# Muestra la leyenda\n",
        "plt.legend()\n",
        "\n",
        "# Muestra el gráfico\n",
        "plt.show()\n"
      ],
      "metadata": {
        "colab": {
          "base_uri": "https://localhost:8080/",
          "height": 483
        },
        "id": "utPJXCg5MDDr",
        "outputId": "86f600bb-19cb-4579-d281-d999021addb9"
      },
      "execution_count": 27,
      "outputs": [
        {
          "output_type": "display_data",
          "data": {
            "text/plain": [
              "<Figure size 864x576 with 1 Axes>"
            ],
            "image/png": "[encoded data removed]"
          },
          "metadata": {}
        }
      ]
    },
    {
      "cell_type": "code",
      "source": [
        "# Ajusta el tamaño del gráfico (ancho, alto)\n",
        "plt.figure(figsize=(12, 8))\n",
        "\n",
        "plt.plot(r.history['accuracy'], label='accuracy')\n",
        "plt.plot(r.history['val_accuracy'], label='validation_accuracy')\n",
        "\n",
        "plt.legend();\n",
        "\n",
        "plt.show()"
      ],
      "metadata": {
        "colab": {
          "base_uri": "https://localhost:8080/",
          "height": 486
        },
        "id": "i-y2nuFOMLdI",
        "outputId": "3bb1fc59-87ee-4b6a-80a4-a08cfc8565e5"
      },
      "execution_count": 31,
      "outputs": [
        {
          "output_type": "display_data",
          "data": {
            "text/plain": [
              "<Figure size 864x576 with 1 Axes>"
            ],
            "image/png": "[encoded data removed]"
          },
          "metadata": {}
        }
      ]
    }
  ]
}